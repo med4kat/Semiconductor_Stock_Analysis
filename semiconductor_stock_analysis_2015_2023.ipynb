{
 "cells": [
  {
   "cell_type": "markdown",
   "id": "ead917e6-a7e8-4baf-8678-ae896448658d",
   "metadata": {
    "editable": true,
    "slideshow": {
     "slide_type": ""
    },
    "tags": []
   },
   "source": [
    "## Data Exploration, Cleaning, and Analysis\n",
    "\n",
    "This section involves loading historical stock data from Yahoo Finance and inspecting its structure. The data is cleaned by making sure there are no missing values and ensuring the correct formats. \n",
    "\n",
    "Exploratory Data Analysis (EDA) is performed, including visualizing stock price trends, calculating daily returns, analyzing correlations, and assessing key financial metrics such as cumulative returns and volatility. \n",
    "\n",
    "These steps help identify important patterns and trends in the semiconductor industry from 2015 to 2023.\n"
   ]
  },
  {
   "cell_type": "markdown",
   "id": "dfa4df9e-955f-4154-a3b1-0bb07a60e678",
   "metadata": {},
   "source": [
    "### Load and Inspect the Data\n",
    "\n",
    "This section loads the stock data from the CSV file, inspects the structure, and checks for missing values. \n",
    "\n",
    "Additionally, the 'Date' column is converted to the proper datetime format.\n"
   ]
  },
  {
   "cell_type": "code",
   "execution_count": null,
   "id": "15038e7f-364c-4e66-8c64-b8dd3572a70f",
   "metadata": {},
   "outputs": [],
   "source": [
    "import pandas as pd\n",
    "import matplotlib.pyplot as plt\n",
    "import seaborn as sns"
   ]
  },
  {
   "cell_type": "code",
   "execution_count": null,
   "id": "0ede44dc-178f-483e-88d0-d6cd5688bd60",
   "metadata": {},
   "outputs": [],
   "source": [
    "# Load the data\n",
    "data = pd.read_csv('semiconductor_stock_data.csv')\n",
    "\n",
    "# Inspect the first 10 rows of the data\n",
    "print(data.head(10))\n"
   ]
  },
  {
   "cell_type": "code",
   "execution_count": null,
   "id": "263bd7ac-a11f-49b9-8dcf-b7c8bc7e68f5",
   "metadata": {},
   "outputs": [],
   "source": [
    "# Check the structure and data types\n",
    "print(data.info())"
   ]
  },
  {
   "cell_type": "markdown",
   "id": "5f6115ed-c825-42d5-8764-bb6e34a37a7a",
   "metadata": {},
   "source": [
    "**No Missing Data:**\n",
    "\n",
    "From the result above the \"Non-Null Count\" for all columns, including Date, is 2264, which matches the total number of entries (rows). This means there are no missing values in any of the columns.\n",
    "\n",
    "**Date Column Format:**\n",
    "\n",
    "The Date column has a data type of object, which indicates that the Date column is currently stored as a string (text) rather than a proper datetime format. To ensure the Date column is in the correct format, we should convert it to datetime using the following code"
   ]
  },
  {
   "cell_type": "code",
   "execution_count": null,
   "id": "3f1d3df0-b7ed-492d-8e4b-e92b2eb8f290",
   "metadata": {},
   "outputs": [],
   "source": [
    "# Convert 'Date' column to datetime if necessary\n",
    "if 'Date' in data.columns:\n",
    "    data['Date'] = pd.to_datetime(data['Date'])\n",
    "\n",
    "# Checking if the 'Date' converted\n",
    "print(data.info())    "
   ]
  },
  {
   "cell_type": "code",
   "execution_count": null,
   "id": "78305b1f-35bc-4ec9-b827-b87cd49f713e",
   "metadata": {},
   "outputs": [],
   "source": [
    "# Set 'Date' as index\n",
    "data.set_index('Date', inplace=True)\n",
    "\n",
    "#Printing data to make sure it looks as expected \n",
    "print(data.head(5))"
   ]
  },
  {
   "cell_type": "markdown",
   "id": "590127c2-a584-4842-8e27-10cd113497ef",
   "metadata": {},
   "source": [
    "### Visualise Stock Price Trends\n",
    "\n",
    "This section plots stock price trends over time using the adjusted close prices, helping to observe overall movements and fluctuations.\n"
   ]
  },
  {
   "cell_type": "code",
   "execution_count": null,
   "id": "68ce8749-5da8-4acd-b99e-522fde9aa7fe",
   "metadata": {},
   "outputs": [],
   "source": [
    "# Visualise stock price trends over time\n",
    "data.plot(figsize=(10, 6))\n",
    "plt.title('Stock Price Trends (2015-2023)')\n",
    "plt.ylabel('Adjusted Close Price')\n",
    "plt.xlabel('Date')\n",
    "plt.show()"
   ]
  },
  {
   "cell_type": "markdown",
   "id": "a3e9d3d1-9584-4da7-8971-aa64a2f33131",
   "metadata": {},
   "source": [
    "#### Stock Price Trends Observations:\n",
    "\n",
    "**2020-2021 Surge:** Most of the stocks show significant upward movement during the 2020-2021 period, likely due to increased demand for semiconductors during the pandemic and the global chip shortage.\n",
    "\n",
    "**Top Performers:** NVIDIA and AMD appear to be the top performers in terms of growth, especially in the 2020-2021 period.\n",
    "\n",
    "**Steady Growth:** TSMC shows consistent long-term growth with less volatility than its competitors.\n",
    "\n",
    "**Underperformer:** Intel stands out as an underperformer in comparison, with relatively flat stock price movement across the period."
   ]
  },
  {
   "cell_type": "markdown",
   "id": "0cfdc06d-380c-42ed-9a62-c595ac348934",
   "metadata": {},
   "source": [
    "### Calculate and Visualise Moving Averages\n",
    "\n",
    "This section calculates the 30-day, 90-day, and 200-day moving averages for each stock, smoothing out short-term fluctuations to highlight longer-term trends. These moving averages are useful for analysing potential signals in a moving average crossover strategy, which could be applied in backtesting to identify buy or sell opportunities based on crossovers between short- and long-term averages.\n"
   ]
  },
  {
   "cell_type": "code",
   "execution_count": null,
   "id": "4b4dc802-9a44-40fe-94e9-8e93fe83f0b0",
   "metadata": {},
   "outputs": [],
   "source": [
    "# Calculate a 30-day moving average for each stock\n",
    "moving_averages = data.rolling(window=30).mean()\n",
    "\n",
    "# Plot the moving averages\n",
    "moving_averages.plot(figsize=(10, 6))\n",
    "plt.title('30-Day Moving Averages of Stock Prices (2015-2023)')\n",
    "plt.ylabel('Adjusted Close Price')\n",
    "plt.xlabel('Date')\n",
    "plt.show()\n"
   ]
  },
  {
   "cell_type": "code",
   "execution_count": null,
   "id": "7cbc07f0-d09c-481c-9853-7b7b2ca838f0",
   "metadata": {},
   "outputs": [],
   "source": [
    "# Calculate a 90-day moving average for each stock\n",
    "moving_averages = data.rolling(window=90).mean()\n",
    "\n",
    "# Plot the moving averages\n",
    "moving_averages.plot(figsize=(10, 6))\n",
    "plt.title('90-Day Moving Averages of Stock Prices (2015-2023)')\n",
    "plt.ylabel('Adjusted Close Price')\n",
    "plt.xlabel('Date')\n",
    "plt.show()"
   ]
  },
  {
   "cell_type": "code",
   "execution_count": null,
   "id": "8e80ccde-2e2a-47f8-aa11-045aed8acfba",
   "metadata": {},
   "outputs": [],
   "source": [
    "# Calculate a 200-day moving average for each stock\n",
    "moving_averages = data.rolling(window=200).mean()\n",
    "\n",
    "# Plot the moving averages\n",
    "moving_averages.plot(figsize=(10, 6))\n",
    "plt.title('200-Day Moving Averages of Stock Prices (2015-2023)')\n",
    "plt.ylabel('Adjusted Close Price')\n",
    "plt.xlabel('Date')\n",
    "plt.show()"
   ]
  },
  {
   "cell_type": "markdown",
   "id": "ca08e890-0de6-4922-8903-7ac228129422",
   "metadata": {},
   "source": [
    "### Calculate and Visualise Daily Returns\n",
    "\n",
    "This section calculates daily returns for each stock to show day-to-day percentage changes. A plot is generated to view stock volatility.\n"
   ]
  },
  {
   "cell_type": "code",
   "execution_count": null,
   "id": "fab57e15-9dea-40fa-9c58-d6d19a1c1f32",
   "metadata": {},
   "outputs": [],
   "source": [
    "# Calculate daily returns\n",
    "returns = data.pct_change()\n",
    "\n",
    "# Plot daily returns\n",
    "returns.plot(figsize=(20, 12))\n",
    "plt.title('Daily Returns (2015-2023)')\n",
    "plt.ylabel('Daily Return')\n",
    "plt.xlabel('Date')\n",
    "plt.show\n"
   ]
  },
  {
   "cell_type": "markdown",
   "id": "d5681423-d220-436b-9c82-c05466acfc9c",
   "metadata": {},
   "source": [
    "### Daily Returns Observations \n",
    "\n",
    "NVIDIA and AMD show the largest daily return spikes, suggesting they are more volatile and reactive to market events.\n",
    "\n",
    "TSMC appears to have the most stable daily returns, with less extreme fluctuations compared to the others.\n"
   ]
  },
  {
   "cell_type": "markdown",
   "id": "61e96811-2d27-45ee-b635-b5b96fe87632",
   "metadata": {},
   "source": [
    "### Analyse Correlation Between Stocks\n",
    "\n",
    "This section calculates the correlation between stock returns for different companies. A heatmap is used to visualise how the stocks move in relation to each other.\n"
   ]
  },
  {
   "cell_type": "code",
   "execution_count": null,
   "id": "09a0df01-7bef-4185-90b0-46d2b7ec78b8",
   "metadata": {},
   "outputs": [],
   "source": [
    "# Compute correlation between stock returns\n",
    "corr_matrix = returns.corr()\n",
    "\n",
    "# Plot heatmap of correlations\n",
    "plt.figure(figsize=(8, 6))\n",
    "sns.heatmap(corr_matrix, annot=True, cmap='coolwarm', linewidths=0.5)\n",
    "plt.title('Stock Price Correlation Matrix')\n",
    "plt.show()\n"
   ]
  },
  {
   "cell_type": "markdown",
   "id": "766acbf1-5ef4-4ef3-94dd-9a07280c888c",
   "metadata": {},
   "source": [
    "### Stock Price Correlation Matrix Observations\n",
    "\n",
    "All stocks have positive correlations with each other, ranging from weak to moderate.\n",
    "\n",
    "NVDA has the highest overall correlations with other stocks, particularly with AMD (0.58) and TSM (0.59).\n",
    "\n",
    "AMD shows the lowest correlations with other stocks, especially with INTC (Intel) at 0.39.\n",
    "\n",
    "No pairs of stocks show very strong correlations (>0.7), indicating some diversification benefits within this group."
   ]
  },
  {
   "cell_type": "markdown",
   "id": "02a200df-5434-4dc5-be93-317e67df3c6a",
   "metadata": {},
   "source": [
    "### Calculate and Plot Cumulative Returns\n",
    "\n",
    "Cumulative returns are calculated for each stock to see the total return over time, assuming the investment was held throughout the period. This helps assess the overall performance of each stock.\n"
   ]
  },
  {
   "cell_type": "code",
   "execution_count": null,
   "id": "e2852274-7c83-46b7-ab10-04ba4c63275a",
   "metadata": {},
   "outputs": [],
   "source": [
    "# Calculate cumulative returns\n",
    "cumulative_returns = (1 + returns).cumprod() - 1\n",
    "\n",
    "# Plot cumulative returns\n",
    "cumulative_returns.plot(figsize=(10, 6))\n",
    "plt.title('Cumulative Returns (2015-2023)')\n",
    "plt.ylabel('Cumulative Return')\n",
    "plt.xlabel('Date')\n",
    "plt.show()"
   ]
  },
  {
   "cell_type": "markdown",
   "id": "14aa7104-a152-4fe8-907e-4ce68e917a2e",
   "metadata": {},
   "source": [
    "### Cumulative Returns Observations\n",
    "\n",
    "NVDA has significantly outperformed all other stocks, showing explosive growth especially from 2020 onwards, with cumulative returns exceeding 100% by 2023.\n",
    "\n",
    "AMD has been the second-best performer, with strong growth particularly from 2019 to 2021, though it experienced more volatility than NVDA.\n",
    "\n",
    "TSM shows moderate but steady growth, maintaining a relatively stable upward trend throughout the period.\n",
    "\n",
    "QCOM and INTC have shown the weakest performance, with their cumulative returns remaining close to 0% over the entire period.\n",
    "\n",
    "All stocks experienced a noticeable dip in early 2020, likely due to the COVID-19 pandemic, but most recovered quickly.\n",
    "\n",
    "There's significant divergence in performance between the top performers (NVDA, AMD) and the others, especially from 2020 onwards.\n",
    "\n",
    "The semiconductor industry appears to have experienced substantial growth overall during this period, but with clear winners and laggards."
   ]
  },
  {
   "cell_type": "markdown",
   "id": "8f0aac30-396c-46e3-9eb0-337a2c973124",
   "metadata": {},
   "source": [
    "### Assess Rolling Volatility\n",
    "\n",
    "This section calculates rolling volatility using a 30-day rolling standard deviation of daily returns. The rolling volatility is plotted to observe periods of higher or lower volatility over time.\n"
   ]
  },
  {
   "cell_type": "code",
   "execution_count": null,
   "id": "88f5c302-71a5-4961-b2c2-a8f7463dd1d1",
   "metadata": {},
   "outputs": [],
   "source": [
    "# Calculate rolling volatility (e.g., 90-day rolling standard deviation)\n",
    "volatility = returns.rolling(window=90).std()\n",
    "\n",
    "# Plot rolling volatility\n",
    "volatility.plot(figsize=(10, 6))\n",
    "plt.title('Rolling Volatility (90-Day)')\n",
    "plt.ylabel('Volatility (Standard Deviation)')\n",
    "plt.xlabel('Date')\n",
    "plt.show()\n"
   ]
  },
  {
   "cell_type": "markdown",
   "id": "cda6b2ae-a7f9-4a24-9f16-8070fa45f5c9",
   "metadata": {},
   "source": [
    "### Calculate the Sharpe Ratio\n",
    "\n",
    "The Sharpe Ratio is used to evaluate the risk-adjusted return of each stock. It compares the average daily return to the risk-free rate and adjusts for the stock's volatility. A higher Sharpe Ratio indicates a better risk-adjusted return. For this calculation, a risk-free rate of 1% per year is assumed.\n"
   ]
  },
  {
   "cell_type": "code",
   "execution_count": null,
   "id": "0e85e11c-98a9-46d2-bb4f-890b7a264149",
   "metadata": {},
   "outputs": [],
   "source": [
    "# Assuming a risk-free rate of 0.01 (1% per year)\n",
    "risk_free_rate = 0.01\n",
    "\n",
    "# Calculate the average daily returns and daily volatility (standard deviation of returns)\n",
    "avg_returns = returns.mean()\n",
    "volatility = returns.std()\n",
    "\n",
    "# Calculate the Sharpe Ratio for each stock\n",
    "sharpe_ratios = (avg_returns - risk_free_rate) / volatility\n",
    "print(sharpe_ratios)\n",
    "\n",
    "# Check the data type of the Series\n",
    "print(sharpe_ratios.dtype)\n"
   ]
  },
  {
   "cell_type": "code",
   "execution_count": null,
   "id": "dc2564ec-59da-493a-b7bf-fc3cb6285d2b",
   "metadata": {},
   "outputs": [],
   "source": [
    "# Plot sharpe ratios\n",
    "sharpe_ratios.plot(kind='bar', figsize=(8, 5), color='skyblue')\n",
    "\n",
    "# Add labels and title\n",
    "plt.title('Sharpe Ratios of Semiconductor Stocks (2015-2023)')\n",
    "plt.ylabel('Sharpe Ratio')\n",
    "plt.xlabel('Stock')\n",
    "\n",
    "# Show the plot\n",
    "plt.show()"
   ]
  },
  {
   "cell_type": "code",
   "execution_count": null,
   "id": "23250505-7584-4093-bd2b-81e7714eadce",
   "metadata": {},
   "outputs": [],
   "source": []
  }
 ],
 "metadata": {
  "kernelspec": {
   "display_name": "Python 3 (ipykernel)",
   "language": "python",
   "name": "python3"
  },
  "language_info": {
   "codemirror_mode": {
    "name": "ipython",
    "version": 3
   },
   "file_extension": ".py",
   "mimetype": "text/x-python",
   "name": "python",
   "nbconvert_exporter": "python",
   "pygments_lexer": "ipython3",
   "version": "3.9.7"
  }
 },
 "nbformat": 4,
 "nbformat_minor": 5
}
