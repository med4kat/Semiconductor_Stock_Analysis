{
 "cells": [
  {
   "cell_type": "markdown",
   "id": "ead917e6-a7e8-4baf-8678-ae896448658d",
   "metadata": {},
   "source": [
    "## Data Exploration, Cleaning, and Analysis\n",
    "\n",
    "This section involves loading historical stock data from Yahoo Finance and inspecting its structure. The data is cleaned by making sure there are no missing values and ensuring the correct formats. \n",
    "\n",
    "Exploratory Data Analysis (EDA) is performed, including visualizing stock price trends, calculating daily returns, analyzing correlations, and assessing key financial metrics such as cumulative returns and volatility. \n",
    "\n",
    "These steps help identify important patterns and trends in the semiconductor industry from 2015 to 2023.\n"
   ]
  },
  {
   "cell_type": "markdown",
   "id": "dfa4df9e-955f-4154-a3b1-0bb07a60e678",
   "metadata": {},
   "source": [
    "### Load and Inspect the Data\n",
    "\n",
    "This section loads the stock data from the CSV file, inspects the structure, and checks for missing values. \n",
    "\n",
    "Additionally, the 'Date' column is converted to the proper datetime format.\n"
   ]
  },
  {
   "cell_type": "code",
   "execution_count": 1,
   "id": "0ede44dc-178f-483e-88d0-d6cd5688bd60",
   "metadata": {},
   "outputs": [
    {
     "name": "stdout",
     "output_type": "stream",
     "text": [
      "         Date      NVDA       INTC   AMD       QCOM        TSM\n",
      "0  2015-01-02  0.483177  27.896463  2.67  55.841820  16.909441\n",
      "1  2015-01-05  0.475016  27.581898  2.66  55.578712  16.499603\n",
      "2  2015-01-06  0.460614  27.067846  2.63  54.789341  16.211205\n",
      "3  2015-01-07  0.459414  27.635607  2.58  55.428360  16.446474\n",
      "4  2015-01-08  0.476696  28.149651  2.61  56.014748  16.552731\n",
      "5  2015-01-09  0.478616  28.203344  2.63  55.947067  16.089775\n",
      "6  2015-01-12  0.472616  28.080589  2.63  55.308064  15.778603\n",
      "7  2015-01-13  0.471895  28.003868  2.66  54.857006  15.975929\n",
      "8  2015-01-14  0.473816  27.888784  2.63  54.293179  15.983519\n",
      "9  2015-01-15  0.470455  27.766020  2.52  53.661690  17.372400\n"
     ]
    }
   ],
   "source": [
    "import pandas as pd\n",
    "import matplotlib.pyplot as plt\n",
    "import seaborn as sns\n",
    "\n",
    "# Load the data\n",
    "data = pd.read_csv('semiconductor_stock_data.csv')\n",
    "\n",
    "# Inspect the first 10 rows of the data\n",
    "print(data.head(10))\n"
   ]
  },
  {
   "cell_type": "code",
   "execution_count": 2,
   "id": "263bd7ac-a11f-49b9-8dcf-b7c8bc7e68f5",
   "metadata": {},
   "outputs": [
    {
     "name": "stdout",
     "output_type": "stream",
     "text": [
      "<class 'pandas.core.frame.DataFrame'>\n",
      "RangeIndex: 2264 entries, 0 to 2263\n",
      "Data columns (total 6 columns):\n",
      " #   Column  Non-Null Count  Dtype  \n",
      "---  ------  --------------  -----  \n",
      " 0   Date    2264 non-null   object \n",
      " 1   NVDA    2264 non-null   float64\n",
      " 2   INTC    2264 non-null   float64\n",
      " 3   AMD     2264 non-null   float64\n",
      " 4   QCOM    2264 non-null   float64\n",
      " 5   TSM     2264 non-null   float64\n",
      "dtypes: float64(5), object(1)\n",
      "memory usage: 106.2+ KB\n",
      "None\n"
     ]
    }
   ],
   "source": [
    "# Check the structure and data types\n",
    "print(data.info())"
   ]
  },
  {
   "cell_type": "markdown",
   "id": "5f6115ed-c825-42d5-8764-bb6e34a37a7a",
   "metadata": {},
   "source": [
    "**No Missing Data:**\n",
    "\n",
    "From the result above the \"Non-Null Count\" for all columns, including Date, is 2264, which matches the total number of entries (rows). This means there are no missing values in any of the columns.\n",
    "\n",
    "**Date Column Format:**\n",
    "\n",
    "The Date column has a data type of object, which indicates that the Date column is currently stored as a string (text) rather than a proper datetime format. To ensure the Date column is in the correct format, we should convert it to datetime using the following code"
   ]
  },
  {
   "cell_type": "code",
   "execution_count": 3,
   "id": "3f1d3df0-b7ed-492d-8e4b-e92b2eb8f290",
   "metadata": {},
   "outputs": [
    {
     "name": "stdout",
     "output_type": "stream",
     "text": [
      "<class 'pandas.core.frame.DataFrame'>\n",
      "RangeIndex: 2264 entries, 0 to 2263\n",
      "Data columns (total 6 columns):\n",
      " #   Column  Non-Null Count  Dtype         \n",
      "---  ------  --------------  -----         \n",
      " 0   Date    2264 non-null   datetime64[ns]\n",
      " 1   NVDA    2264 non-null   float64       \n",
      " 2   INTC    2264 non-null   float64       \n",
      " 3   AMD     2264 non-null   float64       \n",
      " 4   QCOM    2264 non-null   float64       \n",
      " 5   TSM     2264 non-null   float64       \n",
      "dtypes: datetime64[ns](1), float64(5)\n",
      "memory usage: 106.2 KB\n",
      "None\n"
     ]
    }
   ],
   "source": [
    "# Convert 'Date' column to datetime if necessary\n",
    "if 'Date' in data.columns:\n",
    "    data['Date'] = pd.to_datetime(data['Date'])\n",
    "\n",
    "# Checking if the 'Date' converted\n",
    "print(data.info())    "
   ]
  },
  {
   "cell_type": "code",
   "execution_count": 4,
   "id": "78305b1f-35bc-4ec9-b827-b87cd49f713e",
   "metadata": {},
   "outputs": [
    {
     "name": "stdout",
     "output_type": "stream",
     "text": [
      "                NVDA       INTC   AMD       QCOM        TSM\n",
      "Date                                                       \n",
      "2015-01-02  0.483177  27.896463  2.67  55.841820  16.909441\n",
      "2015-01-05  0.475016  27.581898  2.66  55.578712  16.499603\n",
      "2015-01-06  0.460614  27.067846  2.63  54.789341  16.211205\n",
      "2015-01-07  0.459414  27.635607  2.58  55.428360  16.446474\n",
      "2015-01-08  0.476696  28.149651  2.61  56.014748  16.552731\n"
     ]
    }
   ],
   "source": [
    "# Set 'Date' as index\n",
    "data.set_index('Date', inplace=True)\n",
    "\n",
    "#Printing data to make sure it looks as expected \n",
    "print(data.head(5))"
   ]
  }
 ],
 "metadata": {
  "kernelspec": {
   "display_name": "Python 3 (ipykernel)",
   "language": "python",
   "name": "python3"
  },
  "language_info": {
   "codemirror_mode": {
    "name": "ipython",
    "version": 3
   },
   "file_extension": ".py",
   "mimetype": "text/x-python",
   "name": "python",
   "nbconvert_exporter": "python",
   "pygments_lexer": "ipython3",
   "version": "3.9.7"
  }
 },
 "nbformat": 4,
 "nbformat_minor": 5
}
